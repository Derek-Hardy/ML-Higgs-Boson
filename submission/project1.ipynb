{
 "cells": [
  {
   "cell_type": "code",
   "execution_count": 1,
   "metadata": {},
   "outputs": [],
   "source": [
    "# Useful starting lines\n",
    "%matplotlib inline\n",
    "import numpy as np\n",
    "import matplotlib.pyplot as plt\n",
    "%load_ext autoreload\n",
    "%autoreload 2"
   ]
  },
  {
   "cell_type": "code",
   "execution_count": 4,
   "metadata": {},
   "outputs": [],
   "source": [
    "# import helpers\n",
    "from proj1_helpers import *\n",
    "\n",
    "# all linear models\n",
    "from linear_models.linear_reg_gd import * \n",
    "from linear_models.linear_reg_lsq import *\n",
    "from linear_models.logistic_reg import *\n",
    "from linear_models.ridge_reg_lsq import *\n",
    "\n",
    "# preprocessing\n",
    "from preprocess.imputer import *\n",
    "from preprocess.scaler import *"
   ]
  },
  {
   "cell_type": "code",
   "execution_count": 63,
   "metadata": {},
   "outputs": [],
   "source": [
    "# Import Data\n",
    "DATA_TRAIN_PATH = '../data/train.csv' # download train data and supply path here \n",
    "y, tX, ids = load_csv_data(DATA_TRAIN_PATH, sub_sample=True)"
   ]
  },
  {
   "cell_type": "markdown",
   "metadata": {},
   "source": [
    "## Data Exploration\n",
    "\n",
    "Let us explore the data and try to make sense of it!"
   ]
  },
  {
   "cell_type": "code",
   "execution_count": 7,
   "metadata": {},
   "outputs": [
    {
     "name": "stdout",
     "output_type": "stream",
     "text": [
      "(250000,) (250000, 30) (250000,)\n"
     ]
    }
   ],
   "source": [
    "print(y.shape, tX.shape, ids.shape)"
   ]
  },
  {
   "cell_type": "markdown",
   "metadata": {},
   "source": [
    "There are:\n",
    "- 250, 000 data points\n",
    "- 30 different sets of features"
   ]
  },
  {
   "cell_type": "markdown",
   "metadata": {},
   "source": [
    "#### There are more -1 values but the ratio is not too uneven."
   ]
  },
  {
   "cell_type": "code",
   "execution_count": 8,
   "metadata": {},
   "outputs": [
    {
     "name": "stdout",
     "output_type": "stream",
     "text": [
      "Counter({-1.0: 164333, 1.0: 85667})\n"
     ]
    }
   ],
   "source": [
    "import collections\n",
    "\n",
    "freq = collections.Counter()\n",
    "for x in y:\n",
    "    freq[x] += 1\n",
    "print(freq)"
   ]
  },
  {
   "cell_type": "code",
   "execution_count": 10,
   "metadata": {},
   "outputs": [],
   "source": [
    "HEADERS = ['Id', 'Prediction', 'DER_mass_MMC', 'DER_mass_transverse_met_lep',\n",
    "       'DER_mass_vis', 'DER_pt_h', 'DER_deltaeta_jet_jet',\n",
    "       'DER_mass_jet_jet', 'DER_prodeta_jet_jet', 'DER_deltar_tau_lep',\n",
    "       'DER_pt_tot', 'DER_sum_pt', 'DER_pt_ratio_lep_tau',\n",
    "       'DER_met_phi_centrality', 'DER_lep_eta_centrality', 'PRI_tau_pt',\n",
    "       'PRI_tau_eta', 'PRI_tau_phi', 'PRI_lep_pt', 'PRI_lep_eta',\n",
    "       'PRI_lep_phi', 'PRI_met', 'PRI_met_phi', 'PRI_met_sumet',\n",
    "       'PRI_jet_num', 'PRI_jet_leading_pt', 'PRI_jet_leading_eta',\n",
    "       'PRI_jet_leading_phi', 'PRI_jet_subleading_pt',\n",
    "       'PRI_jet_subleading_eta', 'PRI_jet_subleading_phi',\n",
    "       'PRI_jet_all_pt']"
   ]
  },
  {
   "cell_type": "markdown",
   "metadata": {},
   "source": [
    "#### There are quite a number of undefined values in some of the columns!"
   ]
  },
  {
   "cell_type": "code",
   "execution_count": 13,
   "metadata": {},
   "outputs": [
    {
     "name": "stdout",
     "output_type": "stream",
     "text": [
      "Undefined values for each feature: \n",
      "\n",
      "DER_mass_MMC : 38114 / 211886\n",
      "DER_mass_transverse_met_lep : 0 / 250000\n",
      "DER_mass_vis : 0 / 250000\n",
      "DER_pt_h : 0 / 250000\n",
      "DER_deltaeta_jet_jet : 177457 / 72543\n",
      "DER_mass_jet_jet : 177457 / 72543\n",
      "DER_prodeta_jet_jet : 177457 / 72543\n",
      "DER_deltar_tau_lep : 0 / 250000\n",
      "DER_pt_tot : 0 / 250000\n",
      "DER_sum_pt : 0 / 250000\n",
      "DER_pt_ratio_lep_tau : 0 / 250000\n",
      "DER_met_phi_centrality : 0 / 250000\n",
      "DER_lep_eta_centrality : 177457 / 72543\n",
      "PRI_tau_pt : 0 / 250000\n",
      "PRI_tau_eta : 0 / 250000\n",
      "PRI_tau_phi : 0 / 250000\n",
      "PRI_lep_pt : 0 / 250000\n",
      "PRI_lep_eta : 0 / 250000\n",
      "PRI_lep_phi : 0 / 250000\n",
      "PRI_met : 0 / 250000\n",
      "PRI_met_phi : 0 / 250000\n",
      "PRI_met_sumet : 0 / 250000\n",
      "PRI_jet_num : 0 / 250000\n",
      "PRI_jet_leading_pt : 99913 / 150087\n",
      "PRI_jet_leading_eta : 99913 / 150087\n",
      "PRI_jet_leading_phi : 99913 / 150087\n",
      "PRI_jet_subleading_pt : 177457 / 72543\n",
      "PRI_jet_subleading_eta : 177457 / 72543\n",
      "PRI_jet_subleading_phi : 177457 / 72543\n",
      "PRI_jet_all_pt : 0 / 250000\n"
     ]
    }
   ],
   "source": [
    "def find_undefined():\n",
    "    undefined_st = {}\n",
    "    N, M = tX.shape\n",
    "    for i in range(0, M): undefined_st[i] = 0\n",
    "    for row in tX:\n",
    "        for i in range(0, M):\n",
    "            if row[i] == -999.0:\n",
    "                undefined_st[i] += 1\n",
    "\n",
    "    print(\"Undefined values for each feature: \\n\")\n",
    "    for i in range(0, M):\n",
    "        print(\"{0} : {1} / {2}\".format(HEADERS[i+2], undefined_st[i], N - undefined_st[i]))\n",
    "        \n",
    "find_undefined()"
   ]
  },
  {
   "cell_type": "markdown",
   "metadata": {},
   "source": [
    "## Feature Processing\n",
    "\n",
    "Let us make some modifications to the feature matrix, tX to make more reliable predictions"
   ]
  },
  {
   "cell_type": "markdown",
   "metadata": {},
   "source": [
    "#### The steps we will be taking include:\n",
    "\n",
    "1. Different y encoding [-1,1] vs [0,1] for linear regression and logistic regression respectively\n",
    "2. Imputation of values using mode\n",
    "3. Inverse Log transformation of positive columns\n",
    "4. Polynomial Basis - feature expansion\n",
    "5. Standardization"
   ]
  },
  {
   "cell_type": "code",
   "execution_count": 65,
   "metadata": {},
   "outputs": [],
   "source": [
    "#different encoding just for logistic regression!\n",
    "log_y = np.array(y, copy=True)\n",
    "log_y[log_y==-1] = 0"
   ]
  },
  {
   "cell_type": "code",
   "execution_count": 14,
   "metadata": {},
   "outputs": [],
   "source": [
    "# Create inverse log values of features which is positive in value.\n",
    "def inverse_log_cols(X, X_test):\n",
    "    inv_log_cols = (0,1,2,3,4,5,7,8,9,10,12,13,16,19,21,23,26)\n",
    "    X_inv_log_cols = np.log(1 / (1 + X[:, inv_log_cols]))\n",
    "    X = np.hstack((X, X_inv_log_cols))\n",
    "    X_test_inv_log_cols = np.log(1 / (1 + X_test[:, inv_log_cols]))\n",
    "    X_test = np.hstack((X_test, X_test_inv_log_cols))\n",
    "    return X, X_test"
   ]
  },
  {
   "cell_type": "code",
   "execution_count": 15,
   "metadata": {},
   "outputs": [],
   "source": [
    "# expands X by concatenating it with powers of itself (powers used are 2, 3 ... degree)\n",
    "def build_poly(X, degree):\n",
    "    ''' Polynomial basis functions from input data x '''\n",
    "    N, M = X.shape\n",
    "    for d in range(2, degree+1):\n",
    "        for i in range(M):\n",
    "            col = X[:, i]\n",
    "            X = np.c_[X, np.power(col, d)]\n",
    "    return X"
   ]
  },
  {
   "cell_type": "code",
   "execution_count": 21,
   "metadata": {},
   "outputs": [],
   "source": [
    "def preprocess(X, X_test, degree, strategy=\"most frequent\"):    \n",
    "    # Impute -999 with a strategy - most frequent/median/mean\n",
    "    imputer = Imputer(-999, strategy)\n",
    "    X = imputer.fit_transform(X)\n",
    "    X_test = imputer.transform(X_test)\n",
    "    \n",
    "    # Log transformation\n",
    "    X, X_test = inverse_log_cols(X, X_test)\n",
    "    \n",
    "    # extend matrix\n",
    "    X = build_poly(X, degree)\n",
    "    X_test = build_poly(X_test, degree)\n",
    "    \n",
    "    # Normalize values\n",
    "    scaler = Scaler()\n",
    "    X = scaler.fit_transform(X)\n",
    "    X_test = scaler.transform(X_test)\n",
    "    \n",
    "    return X, X_test"
   ]
  },
  {
   "cell_type": "markdown",
   "metadata": {},
   "source": [
    "#### The function above will be called in before we train using our models!"
   ]
  },
  {
   "cell_type": "markdown",
   "metadata": {},
   "source": [
    "## Cross Validation\n",
    "\n",
    "It is quintesssential to do some validation on our end to access how our model is doing and to tune hyperparameters. We have to prepare a CV method that can be used for this!"
   ]
  },
  {
   "cell_type": "code",
   "execution_count": 20,
   "metadata": {},
   "outputs": [],
   "source": [
    "def build_k_indices(num_row, k_fold):\n",
    "    \"\"\"build k indices for k-fold.\"\"\"\n",
    "    interval = int(num_row / k_fold)\n",
    "    indices = np.random.permutation(num_row)\n",
    "    k_indices = [indices[k * interval : (k + 1) * interval]\n",
    "                 for k in range(k_fold)]\n",
    "    return np.array(k_indices)"
   ]
  },
  {
   "cell_type": "code",
   "execution_count": 56,
   "metadata": {},
   "outputs": [],
   "source": [
    "\"\"\"\n",
    "Main function that does Cross-Validation. Explanation of parameters:\n",
    "\n",
    "model : type of model to use\n",
    "X : features\n",
    "y : labels\n",
    "degree : max degree for expansion with polynomial basis\n",
    "assign_labels: function that assigns [-1,1] or [0,1] based on value/cutoff\n",
    "k_fold: how much to split the data for cross validation, defaults to 4\n",
    "seed: seed for randomization\n",
    "cutoff: at what point do we want to assign 1 or -1/0\n",
    "strategy: strategy for imputation of undefined/missin values\n",
    "\"\"\"\n",
    "def cross_validate(model, X, y, degree, assign_labels, k_fold=4, seed=1, cutoff=0, strategy=\"most frequent\"):\n",
    "    np.random.seed(seed) \n",
    "    k_indices = build_k_indices(y.shape[0], k_fold)\n",
    "    test_acc = []\n",
    "    train_acc = []\n",
    "    \n",
    "    def run_cv(k):\n",
    "        k_test = k_indices[k]\n",
    "        \n",
    "        mask = np.ones(len(k_indices), dtype=bool)\n",
    "        mask[[k]] = False\n",
    "        k_train = k_indices[mask].ravel()\n",
    "        \n",
    "        X_train, y_train = X[k_train], y[k_train]\n",
    "        X_test, y_test = X[k_test], y[k_test]\n",
    "                \n",
    "        X_train, X_test = preprocess(X_train, X_test, degree, strategy)\n",
    "        \n",
    "        model.fit(X_train, y_train)\n",
    "  \n",
    "        y_pred = assign_labels(model.predict(X_test), cutoff=cutoff)        \n",
    "        test_acc.append(compute_accuracy(y_pred, y_test))\n",
    "        \n",
    "        y_pred_train = assign_labels(model.predict(X_train), cutoff=cutoff)\n",
    "        train_acc.append(compute_accuracy(y_pred_train, y_train))\n",
    "        \n",
    "    for k in range(k_fold):\n",
    "        run_cv(k)\n",
    "    \n",
    "    return np.array(train_acc), np.array(test_acc)"
   ]
  },
  {
   "cell_type": "markdown",
   "metadata": {},
   "source": [
    "## Models/Strategy\n",
    "\n",
    "In order to tackle this problem, we have chosen to go ahead with the Ridge Regression with normal equation and Logistic Regression using gradient descent. We have not used Linear Regression with gradient descent as the closed form gives us the best answer already."
   ]
  },
  {
   "cell_type": "markdown",
   "metadata": {},
   "source": [
    "## Initial Run\n",
    "\n",
    "For starters, let us simply run our models with the existing features and see how they perform! "
   ]
  },
  {
   "cell_type": "code",
   "execution_count": 57,
   "metadata": {},
   "outputs": [],
   "source": [
    "seed = 60 #set a seed "
   ]
  },
  {
   "cell_type": "code",
   "execution_count": 58,
   "metadata": {},
   "outputs": [],
   "source": [
    "# use some magic numbers for the hyper parameters (will tune later)\n",
    "lambda_ = 0.05\n",
    "degree = 1"
   ]
  },
  {
   "cell_type": "code",
   "execution_count": 59,
   "metadata": {},
   "outputs": [],
   "source": [
    "# note: exact same method as above with the preprocessing removed(this is for testing!)\n",
    "def cross_validate_nopreprocess(model, X, y, degree, assign_labels, \n",
    "                                     k_fold=4, seed=1, cutoff=0, strategy=\"most frequent\"):\n",
    "    np.random.seed(seed) \n",
    "    k_indices = build_k_indices(y.shape[0], k_fold)\n",
    "    test_acc = []\n",
    "    train_acc = []\n",
    "    \n",
    "    def run_cv(k):\n",
    "        k_test = k_indices[k]\n",
    "        \n",
    "        mask = np.ones(len(k_indices), dtype=bool)\n",
    "        mask[[k]] = False\n",
    "        k_train = k_indices[mask].ravel()\n",
    "        \n",
    "        X_train, y_train = X[k_train], y[k_train]\n",
    "        X_test, y_test = X[k_test], y[k_test]\n",
    "                        \n",
    "        model.fit(X_train, y_train)\n",
    "  \n",
    "        y_pred = assign_labels(model.predict(X_test), cutoff=cutoff)        \n",
    "        test_acc.append(compute_accuracy(y_pred, y_test))\n",
    "        \n",
    "        y_pred_train = assign_labels(model.predict(X_train), cutoff=cutoff)\n",
    "        train_acc.append(compute_accuracy(y_pred_train, y_train))\n",
    "        \n",
    "    for k in range(k_fold):\n",
    "        run_cv(k)\n",
    "    \n",
    "    return np.array(train_acc), np.array(test_acc)"
   ]
  },
  {
   "cell_type": "code",
   "execution_count": 61,
   "metadata": {},
   "outputs": [
    {
     "name": "stdout",
     "output_type": "stream",
     "text": [
      "RidgeRegressionLS: Train Accuracy:0.740 (+/- 0.000978), Test Accuracy:0.740 (+/- 0.001865)\n",
      "LogisticRegression: Train Accuracy:0.639 (+/- 0.000564), Test Accuracy:0.639 (+/- 0.001681)\n"
     ]
    },
    {
     "data": {
      "image/png": "[encoded data removed]",
      "text/plain": [
       "<Figure size 432x288 with 1 Axes>"
      ]
     },
     "metadata": {
      "needs_background": "light"
     },
     "output_type": "display_data"
    }
   ],
   "source": [
    "# for plotting\n",
    "headers = [\"RidgeRegressionLS\", \"LogisticRegression\"]\n",
    "\n",
    "# our models\n",
    "models = [RidgeRegressionLS(lambda_=lambda_), LogisticRegression(lambda_=lambda_)]  \n",
    "\n",
    "# cutoff for choosing the 1/-1 or 1/0 split\n",
    "cutoffs = [0, 0.5]\n",
    "\n",
    "# y values\n",
    "y_i = [y, log_y]\n",
    "\n",
    "# label the values with this\n",
    "labeller = [predict_labels, predict_labels_01]\n",
    "\n",
    "# for collecting the results\n",
    "train_acc_list = []\n",
    "test_acc_list = []\n",
    "\n",
    "for i, model in enumerate(models):\n",
    "    train_acc, test_acc = cross_validate_nopreprocess(model, tX, y_i[i], degree=degree, assign_labels=labeller[i], \n",
    "                                         seed=seed, cutoff=cutoffs[i])\n",
    "    print(\"{0}: Train Accuracy:{1:.3f} (+/- {2:.6f}), Test Accuracy:{3:.3f} (+/- {4:.6f})\".format(\n",
    "        headers[i], train_acc.mean(), train_acc.std() * 2, test_acc.mean(), test_acc.std() * 2))\n",
    "    \n",
    "    train_acc_list.append(train_acc.mean())\n",
    "    test_acc_list.append(test_acc.mean())\n",
    "    \n",
    "plot_bar_graph(headers, train_acc_list, test_acc_list, \"Train\", \"Test\", \"Accuracy\", \n",
    "               \"Accuracy for different models for train/test\")"
   ]
  },
  {
   "cell_type": "markdown",
   "metadata": {},
   "source": [
    "#### Ridge Regression has a pretty decent performance while logistic regression does really poorly! This is a classification problem after all so logistic regression should perform better! Let's see what happens after preprocessing/adjusting hyperparameters "
   ]
  },
  {
   "cell_type": "markdown",
   "metadata": {},
   "source": [
    "## Tune Hyperparameters\n",
    "\n",
    "Before we test our models on the processed feature matrix, it is important to adjust some of our hyperparameters that we are going to be using! This way we can be more confident that our model is reliable.\n",
    "\n",
    "\n",
    "We will be plotting some graphs and adjusting the hyper-parameters by hand"
   ]
  },
  {
   "cell_type": "markdown",
   "metadata": {},
   "source": [
    "#### Lets adjust degree and lambda_ for Ridge Regression "
   ]
  },
  {
   "cell_type": "code",
   "execution_count": 43,
   "metadata": {},
   "outputs": [
    {
     "name": "stdout",
     "output_type": "stream",
     "text": [
      "0.7758813333333332 / 0.7758399999999999\n",
      "0.7996488888888889 / 0.799452\n",
      "0.8076093333333333 / 0.80718\n",
      "0.813731111111111 / 0.813316\n",
      "0.816959111111111 / 0.816588\n",
      "0.8181822222222221 / 0.8177559999999999\n",
      "0.8189715555555555 / 0.818592\n",
      "0.819616888888889 / 0.8193199999999999\n",
      "0.8200924444444444 / 0.8198359999999999\n",
      "0.8202075555555556 / 0.819996\n",
      "0.820392 / 0.8201039999999999\n"
     ]
    },
    {
     "data": {
      "image/png": "[encoded data removed]",
      "text/plain": [
       "<Figure size 432x288 with 1 Axes>"
      ]
     },
     "metadata": {
      "needs_background": "light"
     },
     "output_type": "display_data"
    }
   ],
   "source": [
    "lambda_ = 1e-10\n",
    "degrees = [i for i in range(1, 12)]\n",
    "\n",
    "model = RidgeRegressionLS(lambda_=lambda_)\n",
    "\n",
    "train_acc_set = []\n",
    "test_acc_set = []\n",
    "\n",
    "for degree in degrees:\n",
    "    train_acc, test_acc = cross_validate(model, tX, y, assign_labels=predict_labels, degree=degree, seed=seed)\n",
    "    train_acc_set.append(train_acc.mean())\n",
    "    test_acc_set.append(test_acc.mean())\n",
    "    print(\"{0} / {1}\".format(train_acc_set[-1], test_acc_set[-1]))\n",
    "    \n",
    "plot_line_graph(\"How accuracy varies with degree\", \n",
    "                degrees, train_acc_set, test_acc_set, \"Train\", \"Test\", \"Accuracy\", \"Degree\")"
   ]
  },
  {
   "cell_type": "code",
   "execution_count": 44,
   "metadata": {},
   "outputs": [
    {
     "data": {
      "image/png": "[encoded data removed]",
      "text/plain": [
       "<Figure size 432x288 with 1 Axes>"
      ]
     },
     "metadata": {
      "needs_background": "light"
     },
     "output_type": "display_data"
    }
   ],
   "source": [
    "degree = 2\n",
    "lambda_set = np.logspace(-15, -10, 10)\n",
    "\n",
    "train_acc_set = []\n",
    "test_acc_set = []\n",
    "\n",
    "for lambda_ in lambda_set:\n",
    "    model = RidgeRegressionLS(lambda_=lambda_)\n",
    "    train_acc, test_acc = cross_validate(model, tX, y, assign_labels=predict_labels, degree=degree, seed=seed)\n",
    "    train_acc_set.append(train_acc.mean())\n",
    "    test_acc_set.append(test_acc.mean())\n",
    "\n",
    "plot_line_graph(\"How accuracy varies with lambda_\", \n",
    "                lambda_set, train_acc_set, test_acc_set, \"Train\", \"Test\", \"Accuracy\", \"Lambda\")"
   ]
  },
  {
   "cell_type": "markdown",
   "metadata": {},
   "source": [
    "Findings: lambda_ = 1e-10 and degree = 10 looks like it will give a good result for Ridge Regression\n",
    "\n",
    "#### Note: This is by no means an exchaustive grid search (took too long to run)"
   ]
  },
  {
   "cell_type": "markdown",
   "metadata": {},
   "source": [
    "#### Lets adjust degree, lambda_ and step_size for Ridge Regression "
   ]
  },
  {
   "cell_type": "code",
   "execution_count": null,
   "metadata": {},
   "outputs": [],
   "source": [
    "lambda_ = 0.006\n",
    "degrees = [i for i in range(1, 4)]\n",
    "\n",
    "model = LogisticRegression(lambda_=lambda_)\n",
    "\n",
    "train_acc_set = []\n",
    "test_acc_set = []\n",
    "\n",
    "for degree in degrees:\n",
    "    train_acc, test_acc = cross_validate(model, tX, log_y, assign_labels=predict_labels_01, degree=degree, seed=seed\n",
    "                                         , strategy=\"mean\")\n",
    "    train_acc_set.append(train_acc.mean())\n",
    "    test_acc_set.append(test_acc.mean())\n",
    "    print(\"{0} / {1}\".format(train_acc_set[-1], test_acc_set[-1]))\n",
    "    \n",
    "plot_line_graph(\"How accuracy varies with degree\", \n",
    "                degrees, train_acc_set, test_acc_set, \"Train\", \"Test\", \"Accuracy\", \"Degree\")"
   ]
  },
  {
   "cell_type": "code",
   "execution_count": null,
   "metadata": {},
   "outputs": [],
   "source": [
    "degree = 2\n",
    "lambda_set = np.logspace(-10, -6, 10)\n",
    "\n",
    "train_acc_set = []\n",
    "test_acc_set = []\n",
    "\n",
    "for lambda_ in lambda_set:\n",
    "    model = LogisticRegression(lambda_=lambda_)\n",
    "    train_acc, test_acc = cross_validate(model, tX, log_y, assign_labels=predict_labels_01, degree=degree, seed=seed)\n",
    "    train_acc_set.append(train_acc.mean())\n",
    "    test_acc_set.append(test_acc.mean())\n",
    "\n",
    "plot_line_graph(\"How accuracy varies with lambda_\", \n",
    "                lambda_set, train_acc_set, test_acc_set, \"Train\", \"Test\", \"Accuracy\", \"Lambda\")"
   ]
  },
  {
   "cell_type": "markdown",
   "metadata": {},
   "source": [
    "Code takes a long time to run! We have deduced the optimal values to be 0.08 for step_size / 2 for degree / 0.05 from lambda_ after trying out a few samples manually. The above functions took too long to run.\n",
    "\n",
    "#### Note: Similar to above, this was deduced by hand, there is probably a better combination at higher degrees"
   ]
  },
  {
   "cell_type": "markdown",
   "metadata": {},
   "source": [
    "## Results\n",
    "\n",
    "Now that we have a better idea of what hyperparameters to use, lets try to do the processing of features and check to see what is our final result "
   ]
  },
  {
   "cell_type": "code",
   "execution_count": 66,
   "metadata": {},
   "outputs": [
    {
     "name": "stdout",
     "output_type": "stream",
     "text": [
      "RidgeRegressionLS: Train Accuracy:0.843 (+/- 0.008062), Test Accuracy:0.813 (+/- 0.007950)\n",
      "LogisticRegression: Train Accuracy:0.834 (+/- 0.003908), Test Accuracy:0.824 (+/- 0.016871)\n"
     ]
    },
    {
     "data": {
      "image/png": "[encoded data removed]",
      "text/plain": [
       "<Figure size 432x288 with 1 Axes>"
      ]
     },
     "metadata": {
      "needs_background": "light"
     },
     "output_type": "display_data"
    }
   ],
   "source": [
    "# for plotting\n",
    "headers = [\"RidgeRegressionLS\", \"LogisticRegression\"]\n",
    "\n",
    "# our models\n",
    "models = [RidgeRegressionLS(lambda_=1e-10), LogisticRegression(lambda_=0.005)]  \n",
    "\n",
    "# cutoff for choosing the 1/-1 or 1/0 split\n",
    "cutoffs = [0, 0.5]\n",
    "\n",
    "# y values\n",
    "y_i = [y, log_y]\n",
    "\n",
    "# optimal degrees\n",
    "degree_i = [10, 2]\n",
    "\n",
    "# label the values with this\n",
    "labeller = [predict_labels, predict_labels_01]\n",
    "\n",
    "# for collecting the results\n",
    "train_acc_list = []\n",
    "test_acc_list = []\n",
    "\n",
    "for i, model in enumerate(models):\n",
    "    train_acc, test_acc = cross_validate(model, tX, y_i[i], degree=degree_i[i], assign_labels=labeller[i], \n",
    "                                         seed=seed, cutoff=cutoffs[i])\n",
    "    print(\"{0}: Train Accuracy:{1:.3f} (+/- {2:.6f}), Test Accuracy:{3:.3f} (+/- {4:.6f})\".format(\n",
    "        headers[i], train_acc.mean(), train_acc.std() * 2, test_acc.mean(), test_acc.std() * 2))\n",
    "    \n",
    "    train_acc_list.append(train_acc.mean())\n",
    "    test_acc_list.append(test_acc.mean())\n",
    "    \n",
    "plot_bar_graph(headers, train_acc_list, test_acc_list, \"Train\", \"Test\", \"Accuracy\", \n",
    "               \"Accuracy for different models for train/test\")"
   ]
  },
  {
   "cell_type": "markdown",
   "metadata": {},
   "source": [
    "#### The processing and hyperparameter tuning works! \n",
    "\n",
    "Both models have much better accuracy now and logistic regression is doing as well as expected.\n",
    "\n",
    "#### Note: The models were trained using a sub-sample as it took too long to train on full set"
   ]
  },
  {
   "cell_type": "markdown",
   "metadata": {},
   "source": [
    "## Generate predictions and save ouput in csv format for submission:"
   ]
  },
  {
   "cell_type": "code",
   "execution_count": 67,
   "metadata": {},
   "outputs": [],
   "source": [
    "# final ridge regression model\n",
    "def ridge_reg_solver(tX, y, tX_test):\n",
    "    lambda_ = 1.00000000e-10\n",
    "    degree = 15\n",
    "    model = RidgeRegressionLS(lambda_=lambda_)    \n",
    "    tX, tX_test = preprocess(tX, tX_test, degree)         \n",
    "    model.fit(tX, y)\n",
    "    y_pred = predict_labels(model.predict(tX_test))\n",
    "    return y_pred"
   ]
  },
  {
   "cell_type": "code",
   "execution_count": 68,
   "metadata": {},
   "outputs": [],
   "source": [
    "# final log reg solver\n",
    "def log_reg_solver(tX, y, tX_test):\n",
    "    lambda_ = 0.00006\n",
    "    degree = 2\n",
    "    model = LogisticRegression(lambda_=lambda_)\n",
    "    tX, tX_test = preprocess(tX, tX_test, degree) \n",
    "    model.fit(tX, y)\n",
    "    y_pred = predict_labels_01(model.predict(tX_test))\n",
    "    y_pred[y_pred==0] = -1\n",
    "    return y_pred"
   ]
  },
  {
   "cell_type": "markdown",
   "metadata": {},
   "source": [
    "## Final Model\n"
   ]
  },
  {
   "cell_type": "code",
   "execution_count": null,
   "metadata": {},
   "outputs": [],
   "source": [
    "DATA_TEST_PATH = '../data/test.csv' # TODO: download train data and supply path here \n",
    "_, tX_test, ids_test = load_csv_data(DATA_TEST_PATH)"
   ]
  },
  {
   "cell_type": "code",
   "execution_count": null,
   "metadata": {},
   "outputs": [],
   "source": [
    "OUTPUT_PATH = 'pred.csv'"
   ]
  },
  {
   "cell_type": "code",
   "execution_count": null,
   "metadata": {},
   "outputs": [],
   "source": [
    "create_csv_submission(ids_test, ridgeRegSolver(tX, y, tX_test) ,OUTPUT_PATH)"
   ]
  },
  {
   "cell_type": "code",
   "execution_count": null,
   "metadata": {},
   "outputs": [],
   "source": [
    "create_csv_submission(ids_test, logRegSolver(tX, log_y, tX_test) ,OUTPUT_PATH)"
   ]
  }
 ],
 "metadata": {
  "anaconda-cloud": {},
  "kernelspec": {
   "display_name": "Python 3",
   "language": "python",
   "name": "python3"
  },
  "language_info": {
   "codemirror_mode": {
    "name": "ipython",
    "version": 3
   },
   "file_extension": ".py",
   "mimetype": "text/x-python",
   "name": "python",
   "nbconvert_exporter": "python",
   "pygments_lexer": "ipython3",
   "version": "3.7.3"
  }
 },
 "nbformat": 4,
 "nbformat_minor": 1
}
